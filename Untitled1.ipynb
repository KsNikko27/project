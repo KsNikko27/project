{
 "cells": [
  {
   "cell_type": "code",
   "execution_count": 1,
   "id": "cb3b4e24",
   "metadata": {},
   "outputs": [],
   "source": [
    "from pymongo import MongoClient\n",
    "import pymongo\n",
    "import pprint"
   ]
  },
  {
   "cell_type": "code",
   "execution_count": 2,
   "id": "09bd6e98",
   "metadata": {},
   "outputs": [],
   "source": [
    "client = MongoClient(\"localhost:27017\")"
   ]
  },
  {
   "cell_type": "code",
   "execution_count": 3,
   "id": "e3487de1",
   "metadata": {},
   "outputs": [
    {
     "name": "stdout",
     "output_type": "stream",
     "text": [
      "MongoClient(host=['localhost:27017'], document_class=dict, tz_aware=False, connect=True)\n"
     ]
    }
   ],
   "source": [
    "print(client)"
   ]
  },
  {
   "cell_type": "code",
   "execution_count": 4,
   "id": "9f440fc3",
   "metadata": {},
   "outputs": [
    {
     "data": {
      "text/plain": [
       "['admin', 'config', 'local', 'test']"
      ]
     },
     "execution_count": 4,
     "metadata": {},
     "output_type": "execute_result"
    }
   ],
   "source": [
    "client.list_database_names()"
   ]
  },
  {
   "cell_type": "code",
   "execution_count": 5,
   "id": "0c359821",
   "metadata": {},
   "outputs": [
    {
     "data": {
      "text/plain": [
       "Database(MongoClient(host=['localhost:27017'], document_class=dict, tz_aware=False, connect=True), 'test')"
      ]
     },
     "execution_count": 5,
     "metadata": {},
     "output_type": "execute_result"
    }
   ],
   "source": [
    "if 'test' in client.list_database_names():\n",
    "    db = client['test']\n",
    "db"
   ]
  },
  {
   "cell_type": "code",
   "execution_count": 12,
   "id": "6733b0ef",
   "metadata": {},
   "outputs": [
    {
     "data": {
      "text/plain": [
       "{'_id': ObjectId('62f94d629349d2872c8bd385'), 'F_name': 'Karl', 'age': 24}"
      ]
     },
     "execution_count": 12,
     "metadata": {},
     "output_type": "execute_result"
    }
   ],
   "source": [
    "collection = db['posts']\n",
    "collection.find_one({\"age\": 24})"
   ]
  },
  {
   "cell_type": "code",
   "execution_count": 13,
   "id": "71dc2520",
   "metadata": {},
   "outputs": [],
   "source": [
    "new_posts = [{\n",
    "    'F_name': 'Mike',\n",
    "    'L_name': 'King',\n",
    "    'age': 23,\n",
    "    'books': ['Shine', 'Black house', 'Mizery']\n",
    "},\n",
    "{\n",
    "    'F_name': 'Karl',\n",
    "    'L_name': 'King',\n",
    "    'age': 24,\n",
    "    'books': ['Shine', 'Black house', 'Mizery']\n",
    "}]"
   ]
  },
  {
   "cell_type": "code",
   "execution_count": 33,
   "id": "db7c7781",
   "metadata": {},
   "outputs": [
    {
     "data": {
      "text/plain": [
       "[ObjectId('62f94ea09349d2872c8bd386'), ObjectId('62f94ea09349d2872c8bd387')]"
      ]
     },
     "execution_count": 33,
     "metadata": {},
     "output_type": "execute_result"
    }
   ],
   "source": [
    "result = db.posts.insert_many(new_posts)\n",
    "result.inserted_ids"
   ]
  },
  {
   "cell_type": "code",
   "execution_count": 39,
   "id": "57090677",
   "metadata": {},
   "outputs": [
    {
     "name": "stdout",
     "output_type": "stream",
     "text": [
      "{'F_name': 'Stiven',\n",
      " 'L_name': 'King',\n",
      " '_id': ObjectId('62f6bc631bfcbd67e21ecf2b'),\n",
      " 'age': 23,\n",
      " 'books': ['Shine', 'Black house', 'Mizery']}\n",
      "{'F_name': 'Mike', '_id': ObjectId('62f94d629349d2872c8bd384'), 'age': 23}\n",
      "{'F_name': 'Mike',\n",
      " 'L_name': 'King',\n",
      " '_id': ObjectId('62f94ea09349d2872c8bd386'),\n",
      " 'age': 23,\n",
      " 'books': ['Shine', 'Black house', 'Mizery']}\n"
     ]
    }
   ],
   "source": [
    "for i in db.posts.find({'age': 23}):\n",
    "    pprint.pprint(i)"
   ]
  },
  {
   "cell_type": "code",
   "execution_count": 15,
   "id": "ef65cbbb",
   "metadata": {},
   "outputs": [
    {
     "data": {
      "text/plain": [
       "{'_id_': {'v': 2, 'key': [('_id', 1)]},\n",
       " 'user_id_1': {'v': 2, 'key': [('user_id', 1)], 'unique': True}}"
      ]
     },
     "execution_count": 15,
     "metadata": {},
     "output_type": "execute_result"
    }
   ],
   "source": [
    "result = db.profiles.create_index([('user_id', pymongo.ASCENDING)],\n",
    "                                 unique = True)\n",
    "db.profiles.index_information()"
   ]
  },
  {
   "cell_type": "code",
   "execution_count": 16,
   "id": "c1b12cf8",
   "metadata": {},
   "outputs": [
    {
     "data": {
      "text/plain": [
       "<pymongo.results.InsertManyResult at 0x24e7cc76370>"
      ]
     },
     "execution_count": 16,
     "metadata": {},
     "output_type": "execute_result"
    }
   ],
   "source": [
    "db.profiles.insert_many([{'user_id': 11,\n",
    "                       'name': \"james\"},\n",
    "                        {'user_id': 12,\n",
    "                        'name': \"Mike\"}])\n",
    "                        "
   ]
  },
  {
   "cell_type": "code",
   "execution_count": 18,
   "id": "1d62a135",
   "metadata": {},
   "outputs": [],
   "source": [
    "try:\n",
    "    db.profiles.insert_one({'user_id': 11,\n",
    "                       'name': 'Mike'})\n",
    "except Exception:\n",
    "    db.profiles.insert_one({'user_id': 13,\n",
    "                       'name': 'Gordon'})"
   ]
  },
  {
   "cell_type": "code",
   "execution_count": null,
   "id": "24898d96",
   "metadata": {},
   "outputs": [],
   "source": []
  }
 ],
 "metadata": {
  "kernelspec": {
   "display_name": "Python 3 (ipykernel)",
   "language": "python",
   "name": "python3"
  },
  "language_info": {
   "codemirror_mode": {
    "name": "ipython",
    "version": 3
   },
   "file_extension": ".py",
   "mimetype": "text/x-python",
   "name": "python",
   "nbconvert_exporter": "python",
   "pygments_lexer": "ipython3",
   "version": "3.9.12"
  }
 },
 "nbformat": 4,
 "nbformat_minor": 5
}
